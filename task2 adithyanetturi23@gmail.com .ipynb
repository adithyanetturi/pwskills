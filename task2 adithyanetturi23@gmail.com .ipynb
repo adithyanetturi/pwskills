{
 "cells": [
  {
   "cell_type": "markdown",
   "id": "a3edc3d3",
   "metadata": {},
   "source": [
    "#### hey guyz this is my 2nd task."
   ]
  },
  {
   "cell_type": "markdown",
   "id": "5e5862ab",
   "metadata": {},
   "source": [
    "##### Q1. You are writing code for a company. The requirement of the company is that you create a python\n",
    "##### function that will check whether the password entered by the user is correct or not. The function should\n",
    "##### take the password as input and return the string “Valid Password” if the entered password follows the\n",
    "##### below-given password guidelines else it should return “Invalid Password”.\n",
    "##### Note: 1. The Password should contain at least two uppercase letters and at least two lowercase letters.\n",
    "##### 2. The Password should contain at least a number and three special characters.\n",
    "##### 3. The length of the password should be 10 characters long."
   ]
  },
  {
   "cell_type": "code",
   "execution_count": 6,
   "id": "2c71bf57",
   "metadata": {},
   "outputs": [
    {
     "name": "stdout",
     "output_type": "stream",
     "text": [
      "kfjnwi37823r\n",
      "Invalid Password\n"
     ]
    }
   ],
   "source": [
    "import re\n",
    "\n",
    "def check_password(password):\n",
    "    # Check length\n",
    "    if len(password) != 10:\n",
    "        return \"Invalid Password\"\n",
    "    \n",
    "    # Check uppercase letters\n",
    "    if len(re.findall(r'[A-Z]', password)) < 2:\n",
    "        return \"Invalid Password\"\n",
    "    \n",
    "    # Check lowercase letters\n",
    "    if len(re.findall(r'[a-z]', password)) < 2:\n",
    "        return \"Invalid Password\"\n",
    "    \n",
    "    # Check numbers\n",
    "    if len(re.findall(r'[0-9]', password)) < 1:\n",
    "        return \"Invalid Password\"\n",
    "    \n",
    "    # Check special characters\n",
    "    if len(re.findall(r'[^\\w\\s]', password)) < 3:\n",
    "        return \"Invalid Password\"\n",
    "    \n",
    "    # If all checks pass, the password is valid\n",
    "    return \"Valid Password\"\n",
    "password = input()\n",
    "print(check_password(password ))"
   ]
  },
  {
   "cell_type": "markdown",
   "id": "81529f11",
   "metadata": {},
   "source": [
    "##### Q2. Solve the below-given questions using at least one of the following:\n",
    "##### 1. Lambda functioJ\n",
    "##### 2. Filter functioJ\n",
    "##### 3. Zap functioJ\n",
    "##### 4. List ComprehensioI\n",
    "##### B Check if the string starts with a particular letterY\n",
    "##### B Check if the string is numericY\n",
    "##### B Sort a list of tuples having fruit names and their quantity. [(\"mango\",99),(\"orange\",80), (\"grapes\", 1000)-\n",
    "B Find the squares of numbers from 1 to 10Y\n",
    "B Find the cube root of numbers from 1 to 10Y\n",
    "B Check if a given number is evenY\n",
    "B Filter odd numbers from the given list.\n",
    "[1,2,3,4,5,6,7,8,9,10-\n",
    "B Sort a list of integers into positive and negative integers lists.\n",
    "[1,2,3,4,5,6,-1,-2,-3,-4,-5,0]"
   ]
  },
  {
   "cell_type": "code",
   "execution_count": 8,
   "id": "88bf2738",
   "metadata": {},
   "outputs": [
    {
     "name": "stdout",
     "output_type": "stream",
     "text": [
      "['Apple', 'Apricot']\n"
     ]
    }
   ],
   "source": [
    "# 1. Check if the string starts with a particular letter\n",
    "strings = [\"Apple\", \"Banana\", \"Orange\", \"Apricot\"]\n",
    "a_strings = list(filter(lambda s: s.startswith(\"A\"), strings))\n",
    "print(a_strings)"
   ]
  },
  {
   "cell_type": "code",
   "execution_count": 9,
   "id": "cd53b2b4",
   "metadata": {},
   "outputs": [
    {
     "name": "stdout",
     "output_type": "stream",
     "text": [
      "['123', '456']\n"
     ]
    }
   ],
   "source": [
    "# 2.Check if the string is numeric:\n",
    "strings = [\"123\", \"hello\", \"456\", \"world\"]\n",
    "numeric_strings = list(filter(lambda s: s.isdigit(), strings))\n",
    "print(numeric_strings)"
   ]
  },
  {
   "cell_type": "code",
   "execution_count": 10,
   "id": "a7d9b787",
   "metadata": {},
   "outputs": [
    {
     "name": "stdout",
     "output_type": "stream",
     "text": [
      "[('orange', 80), ('mango', 99), ('grapes', 1000)]\n"
     ]
    }
   ],
   "source": [
    "#3.Sort a list of tuples having fruit names and their quantity\n",
    "fruits = [(\"mango\", 99), (\"orange\", 80), (\"grapes\", 1000)]\n",
    "sorted_fruits = sorted(fruits, key=lambda x: x[1])\n",
    "print(sorted_fruits)"
   ]
  },
  {
   "cell_type": "code",
   "execution_count": 11,
   "id": "8947626c",
   "metadata": {},
   "outputs": [
    {
     "name": "stdout",
     "output_type": "stream",
     "text": [
      "[1, 4, 9, 16, 25, 36, 49, 64, 81, 100]\n"
     ]
    }
   ],
   "source": [
    "# Find the squares of numbers from 1 to 10:\n",
    "squares = [x ** 2 for x in range(1, 11)]\n",
    "print(squares)"
   ]
  },
  {
   "cell_type": "code",
   "execution_count": 12,
   "id": "232747fe",
   "metadata": {},
   "outputs": [
    {
     "name": "stdout",
     "output_type": "stream",
     "text": [
      "[1.0, 1.2599210498948732, 1.4422495703074083, 1.5874010519681994, 1.7099759466766968, 1.8171205928321397, 1.912931182772389, 2.0, 2.080083823051904, 2.154434690031884]\n"
     ]
    }
   ],
   "source": [
    "# cube roots:\n",
    "import math\n",
    "cube_roots = [math.pow(x, 1/3) for x in range(1, 11)]\n",
    "print(cube_roots)"
   ]
  },
  {
   "cell_type": "code",
   "execution_count": 13,
   "id": "bd024eac",
   "metadata": {},
   "outputs": [
    {
     "name": "stdout",
     "output_type": "stream",
     "text": [
      "[2, 4, 6, 8, 10]\n"
     ]
    }
   ],
   "source": [
    "# check given number is even\n",
    "nums = [1, 2, 3, 4, 5, 6, 7, 8, 9, 10]\n",
    "\n",
    "# Use lambda function and filter to find even numbers\n",
    "even_nums = list(filter(lambda x: x % 2 == 0, nums))\n",
    "\n",
    "print(even_nums) # Output: [2, 4, 6, 8, 10]\n"
   ]
  },
  {
   "cell_type": "code",
   "execution_count": 14,
   "id": "49b4585f",
   "metadata": {},
   "outputs": [
    {
     "name": "stdout",
     "output_type": "stream",
     "text": [
      "[1, 3, 5, 7, 9]\n"
     ]
    }
   ],
   "source": [
    "lst = [1,2,3,4,5,6,7,8,9,10]\n",
    "odd_lst = list(filter(lambda x: x % 2 != 0, lst))\n",
    "print(odd_lst)"
   ]
  },
  {
   "cell_type": "code",
   "execution_count": 19,
   "id": "4e66defc",
   "metadata": {},
   "outputs": [
    {
     "name": "stdout",
     "output_type": "stream",
     "text": [
      "[-1, -2, -3, -4, -5, 0, 1, 2, 3, 4, 5, 6]\n"
     ]
    }
   ],
   "source": [
    "#Sort a list of integers into positive and negative integers lists.\n",
    "l = [1,2,3,4,5,6,-1,-2,-3,-4,-5,0]\n",
    "pos = list(filter(lambda x: x>0,l))\n",
    "neg = list(filter(lambda y: y<0,l))\n",
    "print(neg+[0]+pos)"
   ]
  },
  {
   "cell_type": "code",
   "execution_count": null,
   "id": "568df115",
   "metadata": {},
   "outputs": [],
   "source": []
  }
 ],
 "metadata": {
  "kernelspec": {
   "display_name": "Python 3 (ipykernel)",
   "language": "python",
   "name": "python3"
  },
  "language_info": {
   "codemirror_mode": {
    "name": "ipython",
    "version": 3
   },
   "file_extension": ".py",
   "mimetype": "text/x-python",
   "name": "python",
   "nbconvert_exporter": "python",
   "pygments_lexer": "ipython3",
   "version": "3.9.12"
  }
 },
 "nbformat": 4,
 "nbformat_minor": 5
}
