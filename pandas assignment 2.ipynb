{
 "cells": [
  {
   "cell_type": "markdown",
   "id": "3a1f2c34",
   "metadata": {},
   "source": [
    "#### Welcome to the 2nd assignment on pandas"
   ]
  },
  {
   "cell_type": "markdown",
   "id": "392d670d",
   "metadata": {},
   "source": [
    "#### Q1. List any five functions of the pandas library with execution."
   ]
  },
  {
   "cell_type": "code",
   "execution_count": 17,
   "id": "3cf888e4",
   "metadata": {},
   "outputs": [
    {
     "name": "stdout",
     "output_type": "stream",
     "text": [
      "   cgpa  placement_exam_marks  placed\n",
      "0  7.19                  26.0       1\n",
      "1  7.46                  38.0       1\n",
      "2  7.54                  40.0       1\n",
      "3  6.42                   8.0       1\n",
      "4  7.23                  17.0       0\n"
     ]
    }
   ],
   "source": [
    "#read_csv() - This function is used to read a CSV file and store the data in a pandas DataFrame.\n",
    "import pandas as pd\n",
    "data = pd.read_csv('placement_cla.csv')\n",
    "# head() - This function is used to display the first few rows of a pandas DataFrame.\n",
    "print(data.head())\n"
   ]
  },
  {
   "cell_type": "code",
   "execution_count": 18,
   "id": "3c93a2c7",
   "metadata": {},
   "outputs": [
    {
     "name": "stdout",
     "output_type": "stream",
     "text": [
      "              cgpa  placement_exam_marks       placed\n",
      "count  1000.000000           1000.000000  1000.000000\n",
      "mean      6.961240             32.225000     0.489000\n",
      "std       0.615898             19.130822     0.500129\n",
      "min       4.890000              0.000000     0.000000\n",
      "25%       6.550000             17.000000     0.000000\n",
      "50%       6.960000             28.000000     0.000000\n",
      "75%       7.370000             44.000000     1.000000\n",
      "max       9.120000            100.000000     1.000000\n"
     ]
    }
   ],
   "source": [
    "#describe() - This function is used to generate descriptive statistics of a pandas DataFrame.\n",
    "print(data.describe())"
   ]
  },
  {
   "cell_type": "code",
   "execution_count": 19,
   "id": "4c22eba7",
   "metadata": {},
   "outputs": [
    {
     "name": "stdout",
     "output_type": "stream",
     "text": [
      "<pandas.core.groupby.generic.DataFrameGroupBy object at 0x000001E08BE78070>\n"
     ]
    }
   ],
   "source": [
    "#groupby() - This function is used to group data in a pandas DataFrame based on one or more columns.\n",
    "grouped_data = data.groupby(['cgpa', 'placement_exam_marks'])\n",
    "print(grouped_data)"
   ]
  },
  {
   "cell_type": "code",
   "execution_count": 20,
   "id": "48903689",
   "metadata": {},
   "outputs": [
    {
     "data": {
      "image/png": "[encoded data removed]",
      "text/plain": [
       "<Figure size 432x288 with 1 Axes>"
      ]
     },
     "metadata": {
      "needs_background": "light"
     },
     "output_type": "display_data"
    }
   ],
   "source": [
    "# plot() - This function is used to plot data in a pandas DataFrame.\n",
    "import matplotlib.pyplot as plt\n",
    "data.plot(x='cgpa', y='placement_exam_marks', kind='scatter')\n",
    "plt.show()"
   ]
  },
  {
   "cell_type": "markdown",
   "id": "c715e4fd",
   "metadata": {},
   "source": [
    "#### Q2 Given a Pandas DataFrame df with columns 'A', 'B', and 'C', write a Python function to re-index theDataFrame with a new index that starts from 1 and increments by 2 for each row."
   ]
  },
  {
   "cell_type": "code",
   "execution_count": 22,
   "id": "b1b14351",
   "metadata": {},
   "outputs": [
    {
     "data": {
      "text/html": [
       "<div>\n",
       "<style scoped>\n",
       "    .dataframe tbody tr th:only-of-type {\n",
       "        vertical-align: middle;\n",
       "    }\n",
       "\n",
       "    .dataframe tbody tr th {\n",
       "        vertical-align: top;\n",
       "    }\n",
       "\n",
       "    .dataframe thead th {\n",
       "        text-align: right;\n",
       "    }\n",
       "</style>\n",
       "<table border=\"1\" class=\"dataframe\">\n",
       "  <thead>\n",
       "    <tr style=\"text-align: right;\">\n",
       "      <th></th>\n",
       "      <th>cgpa</th>\n",
       "      <th>placement_exam_marks</th>\n",
       "      <th>placed</th>\n",
       "    </tr>\n",
       "  </thead>\n",
       "  <tbody>\n",
       "    <tr>\n",
       "      <th>1</th>\n",
       "      <td>7.46</td>\n",
       "      <td>38.0</td>\n",
       "      <td>1.0</td>\n",
       "    </tr>\n",
       "    <tr>\n",
       "      <th>3</th>\n",
       "      <td>6.42</td>\n",
       "      <td>8.0</td>\n",
       "      <td>1.0</td>\n",
       "    </tr>\n",
       "    <tr>\n",
       "      <th>5</th>\n",
       "      <td>7.30</td>\n",
       "      <td>23.0</td>\n",
       "      <td>1.0</td>\n",
       "    </tr>\n",
       "    <tr>\n",
       "      <th>7</th>\n",
       "      <td>7.12</td>\n",
       "      <td>39.0</td>\n",
       "      <td>1.0</td>\n",
       "    </tr>\n",
       "    <tr>\n",
       "      <th>9</th>\n",
       "      <td>7.75</td>\n",
       "      <td>94.0</td>\n",
       "      <td>1.0</td>\n",
       "    </tr>\n",
       "    <tr>\n",
       "      <th>...</th>\n",
       "      <td>...</td>\n",
       "      <td>...</td>\n",
       "      <td>...</td>\n",
       "    </tr>\n",
       "    <tr>\n",
       "      <th>1991</th>\n",
       "      <td>NaN</td>\n",
       "      <td>NaN</td>\n",
       "      <td>NaN</td>\n",
       "    </tr>\n",
       "    <tr>\n",
       "      <th>1993</th>\n",
       "      <td>NaN</td>\n",
       "      <td>NaN</td>\n",
       "      <td>NaN</td>\n",
       "    </tr>\n",
       "    <tr>\n",
       "      <th>1995</th>\n",
       "      <td>NaN</td>\n",
       "      <td>NaN</td>\n",
       "      <td>NaN</td>\n",
       "    </tr>\n",
       "    <tr>\n",
       "      <th>1997</th>\n",
       "      <td>NaN</td>\n",
       "      <td>NaN</td>\n",
       "      <td>NaN</td>\n",
       "    </tr>\n",
       "    <tr>\n",
       "      <th>1999</th>\n",
       "      <td>NaN</td>\n",
       "      <td>NaN</td>\n",
       "      <td>NaN</td>\n",
       "    </tr>\n",
       "  </tbody>\n",
       "</table>\n",
       "<p>1000 rows × 3 columns</p>\n",
       "</div>"
      ],
      "text/plain": [
       "      cgpa  placement_exam_marks  placed\n",
       "1     7.46                  38.0     1.0\n",
       "3     6.42                   8.0     1.0\n",
       "5     7.30                  23.0     1.0\n",
       "7     7.12                  39.0     1.0\n",
       "9     7.75                  94.0     1.0\n",
       "...    ...                   ...     ...\n",
       "1991   NaN                   NaN     NaN\n",
       "1993   NaN                   NaN     NaN\n",
       "1995   NaN                   NaN     NaN\n",
       "1997   NaN                   NaN     NaN\n",
       "1999   NaN                   NaN     NaN\n",
       "\n",
       "[1000 rows x 3 columns]"
      ]
     },
     "execution_count": 22,
     "metadata": {},
     "output_type": "execute_result"
    }
   ],
   "source": [
    "\n",
    "import pandas as pd\n",
    "\n",
    "def reindex_with_new_index(df):\n",
    "    new_index = pd.RangeIndex(start=1, step=2, stop=len(df)*2+1)\n",
    "    df = df.reindex(new_index)\n",
    "    return df\n",
    "reindex_with_new_index(data)"
   ]
  },
  {
   "cell_type": "markdown",
   "id": "17bf1972",
   "metadata": {},
   "source": [
    "#### Q3. You have a Pandas DataFrame df with a column named 'Values'. Write a Python function thatiterates over the DataFrame and calculates the sum of the first three values in the 'Values' column. The function should print the sum to the console."
   ]
  },
  {
   "cell_type": "code",
   "execution_count": 26,
   "id": "2938602c",
   "metadata": {},
   "outputs": [
    {
     "name": "stdout",
     "output_type": "stream",
     "text": [
      "Sum of the first three values in 'Values' column: 22.19\n"
     ]
    }
   ],
   "source": [
    "def sum_first_three_values(df):\n",
    "    total = 0\n",
    "    for i, row in df.iterrows():\n",
    "        if i < 3:\n",
    "            total += row['cgpa']\n",
    "        else:\n",
    "            break\n",
    "    print(\"Sum of the first three values in 'Values' column:\", total)\n",
    "sum_first_three_values(data)"
   ]
  },
  {
   "cell_type": "markdown",
   "id": "94f41e6f",
   "metadata": {},
   "source": [
    "#### Q4. Given a Pandas DataFrame df with a column 'Text', write a Python function to create a new column 'Word_Count' that contains the number of words in each row of the 'Text' column."
   ]
  },
  {
   "cell_type": "code",
   "execution_count": 28,
   "id": "edd08a28",
   "metadata": {},
   "outputs": [
    {
     "data": {
      "text/html": [
       "<div>\n",
       "<style scoped>\n",
       "    .dataframe tbody tr th:only-of-type {\n",
       "        vertical-align: middle;\n",
       "    }\n",
       "\n",
       "    .dataframe tbody tr th {\n",
       "        vertical-align: top;\n",
       "    }\n",
       "\n",
       "    .dataframe thead th {\n",
       "        text-align: right;\n",
       "    }\n",
       "</style>\n",
       "<table border=\"1\" class=\"dataframe\">\n",
       "  <thead>\n",
       "    <tr style=\"text-align: right;\">\n",
       "      <th></th>\n",
       "      <th>Text</th>\n",
       "      <th>Word_Count</th>\n",
       "    </tr>\n",
       "  </thead>\n",
       "  <tbody>\n",
       "    <tr>\n",
       "      <th>0</th>\n",
       "      <td>This is the first sentence.</td>\n",
       "      <td>5</td>\n",
       "    </tr>\n",
       "    <tr>\n",
       "      <th>1</th>\n",
       "      <td>Here is the second sentence with more words.</td>\n",
       "      <td>8</td>\n",
       "    </tr>\n",
       "    <tr>\n",
       "      <th>2</th>\n",
       "      <td>And here is the third and final sentence.</td>\n",
       "      <td>8</td>\n",
       "    </tr>\n",
       "  </tbody>\n",
       "</table>\n",
       "</div>"
      ],
      "text/plain": [
       "                                           Text  Word_Count\n",
       "0                   This is the first sentence.           5\n",
       "1  Here is the second sentence with more words.           8\n",
       "2     And here is the third and final sentence.           8"
      ]
     },
     "execution_count": 28,
     "metadata": {},
     "output_type": "execute_result"
    }
   ],
   "source": [
    "import pandas as pd\n",
    "\n",
    "df = pd.DataFrame({\n",
    "    'Text': ['This is the first sentence.',\n",
    "             'Here is the second sentence with more words.',\n",
    "             'And here is the third and final sentence.']\n",
    "})\n",
    "import pandas as pd\n",
    "\n",
    "def add_word_count_column(df):\n",
    "    # Split the text in each row into words\n",
    "    words_list = df['Text'].str.split()\n",
    "\n",
    "    # Count the number of words in each row\n",
    "    word_count_list = [len(words) for words in words_list]\n",
    "\n",
    "    # Add the word count as a new column to the DataFrame\n",
    "    df['Word_Count'] = word_count_list\n",
    "\n",
    "    return df\n",
    "df = add_word_count_column(df)\n",
    "df"
   ]
  },
  {
   "cell_type": "markdown",
   "id": "85c99087",
   "metadata": {},
   "source": [
    "#### Q5. How are DataFrame.size() and DataFrame.shape() different?"
   ]
  },
  {
   "cell_type": "code",
   "execution_count": 29,
   "id": "1930f135",
   "metadata": {},
   "outputs": [],
   "source": [
    "# DataFrame.size and DataFrame.shape are both methods of the Pandas DataFrame class, but they return different information about the DataFrame.\n",
    "# DataFrame.size returns the total number of elements in the DataFrame, which is equal to the number of rows multiplied by the number of columns. The size method returns a scalar value of type int. For example, if you have a DataFrame with 3 rows and 4 columns, the size method would return 12."
   ]
  },
  {
   "cell_type": "markdown",
   "id": "582563c7",
   "metadata": {},
   "source": [
    "#### Q6. Which function of pandas do we use to read an excel file?"
   ]
  },
  {
   "cell_type": "code",
   "execution_count": 31,
   "id": "dbb162b1",
   "metadata": {},
   "outputs": [],
   "source": [
    "#pd.read_excel()"
   ]
  },
  {
   "cell_type": "markdown",
   "id": "5a2b6f4f",
   "metadata": {},
   "source": [
    "#### Q7. You have a Pandas DataFrame df that contains a column named 'Email' that contains emailaddresses in the format  'username@domain.com'. Write a Python function that creates a new column 'Username' in df that contains only the username part of each email address."
   ]
  },
  {
   "cell_type": "code",
   "execution_count": 32,
   "id": "28b24ef9",
   "metadata": {},
   "outputs": [
    {
     "name": "stdout",
     "output_type": "stream",
     "text": [
      "                  Email  Username\n",
      "0     johndoe@gmail.com   johndoe\n",
      "1     janedoe@yahoo.com   janedoe\n",
      "2  alice123@hotmail.com  alice123\n"
     ]
    }
   ],
   "source": [
    "import pandas as pd\n",
    "\n",
    "def extract_username(df):\n",
    "    df['Username'] = df['Email'].apply(lambda x: x.split('@')[0])\n",
    "    return df\n",
    "df = pd.DataFrame({'Email': ['johndoe@gmail.com', 'janedoe@yahoo.com', 'alice123@hotmail.com']})\n",
    "df = extract_username(df)\n",
    "print(df)\n"
   ]
  },
  {
   "cell_type": "markdown",
   "id": "a2f7766a",
   "metadata": {},
   "source": [
    "#### Q8. You have a Pandas DataFrame df with columns 'A', 'B', and 'C'. Write a Python function that selects\n",
    "#### all rows where the value in column 'A' is greater than 5 and the value in column 'B' is less than 10. The\n",
    "#### function should return a new DataFrame that contains only the selected rows.\n",
    "#### For example, if df contains the following values:\n",
    "#### A B C\n",
    "<!-- 0 3 5 1\n",
    "1 8 2 7\n",
    "2 6 9 4\n",
    "3 2 3 5\n",
    "4 9 1 2\n",
    "Your function should select the following rows: A B C\n",
    "1 8 2 7\n",
    "4 9 1 2 -->"
   ]
  },
  {
   "cell_type": "code",
   "execution_count": 33,
   "id": "93d6cb75",
   "metadata": {},
   "outputs": [
    {
     "name": "stdout",
     "output_type": "stream",
     "text": [
      "   A  B  C\n",
      "1  8  2  7\n",
      "2  6  9  4\n",
      "4  9  1  2\n"
     ]
    }
   ],
   "source": [
    "import pandas as pd\n",
    "\n",
    "def select_rows(df):\n",
    "    selected_rows = df[(df['A'] > 5) & (df['B'] < 10)]\n",
    "    return selected_rows\n",
    "df = pd.DataFrame({'A': [3, 8, 6, 2, 9], 'B': [5, 2, 9, 3, 1], 'C': [1, 7, 4, 5, 2]})\n",
    "selected_rows = select_rows(df)\n",
    "print(selected_rows)\n"
   ]
  },
  {
   "cell_type": "markdown",
   "id": "577503e9",
   "metadata": {},
   "source": [
    "#### Q9. Given a Pandas DataFrame df with a column 'Values', write a Python function to calculate the mean, median, and standard deviation of the values in the 'Values' column."
   ]
  },
  {
   "cell_type": "code",
   "execution_count": 34,
   "id": "81c91d12",
   "metadata": {},
   "outputs": [
    {
     "data": {
      "text/html": [
       "<div>\n",
       "<style scoped>\n",
       "    .dataframe tbody tr th:only-of-type {\n",
       "        vertical-align: middle;\n",
       "    }\n",
       "\n",
       "    .dataframe tbody tr th {\n",
       "        vertical-align: top;\n",
       "    }\n",
       "\n",
       "    .dataframe thead th {\n",
       "        text-align: right;\n",
       "    }\n",
       "</style>\n",
       "<table border=\"1\" class=\"dataframe\">\n",
       "  <thead>\n",
       "    <tr style=\"text-align: right;\">\n",
       "      <th></th>\n",
       "      <th>cgpa</th>\n",
       "      <th>placement_exam_marks</th>\n",
       "      <th>placed</th>\n",
       "    </tr>\n",
       "  </thead>\n",
       "  <tbody>\n",
       "    <tr>\n",
       "      <th>count</th>\n",
       "      <td>1000.000000</td>\n",
       "      <td>1000.000000</td>\n",
       "      <td>1000.000000</td>\n",
       "    </tr>\n",
       "    <tr>\n",
       "      <th>mean</th>\n",
       "      <td>6.961240</td>\n",
       "      <td>32.225000</td>\n",
       "      <td>0.489000</td>\n",
       "    </tr>\n",
       "    <tr>\n",
       "      <th>std</th>\n",
       "      <td>0.615898</td>\n",
       "      <td>19.130822</td>\n",
       "      <td>0.500129</td>\n",
       "    </tr>\n",
       "    <tr>\n",
       "      <th>min</th>\n",
       "      <td>4.890000</td>\n",
       "      <td>0.000000</td>\n",
       "      <td>0.000000</td>\n",
       "    </tr>\n",
       "    <tr>\n",
       "      <th>25%</th>\n",
       "      <td>6.550000</td>\n",
       "      <td>17.000000</td>\n",
       "      <td>0.000000</td>\n",
       "    </tr>\n",
       "    <tr>\n",
       "      <th>50%</th>\n",
       "      <td>6.960000</td>\n",
       "      <td>28.000000</td>\n",
       "      <td>0.000000</td>\n",
       "    </tr>\n",
       "    <tr>\n",
       "      <th>75%</th>\n",
       "      <td>7.370000</td>\n",
       "      <td>44.000000</td>\n",
       "      <td>1.000000</td>\n",
       "    </tr>\n",
       "    <tr>\n",
       "      <th>max</th>\n",
       "      <td>9.120000</td>\n",
       "      <td>100.000000</td>\n",
       "      <td>1.000000</td>\n",
       "    </tr>\n",
       "  </tbody>\n",
       "</table>\n",
       "</div>"
      ],
      "text/plain": [
       "              cgpa  placement_exam_marks       placed\n",
       "count  1000.000000           1000.000000  1000.000000\n",
       "mean      6.961240             32.225000     0.489000\n",
       "std       0.615898             19.130822     0.500129\n",
       "min       4.890000              0.000000     0.000000\n",
       "25%       6.550000             17.000000     0.000000\n",
       "50%       6.960000             28.000000     0.000000\n",
       "75%       7.370000             44.000000     1.000000\n",
       "max       9.120000            100.000000     1.000000"
      ]
     },
     "execution_count": 34,
     "metadata": {},
     "output_type": "execute_result"
    }
   ],
   "source": [
    "data.describe()"
   ]
  },
  {
   "cell_type": "markdown",
   "id": "ca0ec29d",
   "metadata": {},
   "source": [
    "#### Q10. Given a Pandas DataFrame df with a column 'Sales' and a column 'Date', write a Python function to create a new column 'MovingAverage' that contains the moving average of the sales for the past 7 days for each row in the DataFrame. The moving average should be calculated using a window of size 7 and should include the current day."
   ]
  },
  {
   "cell_type": "code",
   "execution_count": 35,
   "id": "e9db1d2b",
   "metadata": {},
   "outputs": [
    {
     "name": "stdout",
     "output_type": "stream",
     "text": [
      "        Date  Sales  MovingAverage\n",
      "0 2022-01-01     10           10.0\n",
      "1 2022-01-02     20           15.0\n",
      "2 2022-01-03     30           20.0\n",
      "3 2022-01-04     40           25.0\n",
      "4 2022-01-05     50           30.0\n",
      "5 2022-01-06     60           35.0\n",
      "6 2022-01-07     70           40.0\n",
      "7 2022-01-08     80           50.0\n",
      "8 2022-01-09     90           60.0\n",
      "9 2022-01-10    100           70.0\n"
     ]
    }
   ],
   "source": [
    "import pandas as pd\n",
    "\n",
    "def add_moving_average(df, window_size):\n",
    "    # Calculate the moving average\n",
    "    ma = df['Sales'].rolling(window=window_size, min_periods=1).mean()\n",
    "    \n",
    "    # Add the moving average to the DataFrame\n",
    "    df['MovingAverage'] = ma\n",
    "    \n",
    "    return df\n",
    "df = pd.DataFrame({'Date': pd.date_range(start='2022-01-01', periods=10), 'Sales': [10, 20, 30, 40, 50, 60, 70, 80, 90, 100]})\n",
    "df = add_moving_average(df, window_size=7)\n",
    "print(df)\n"
   ]
  },
  {
   "cell_type": "markdown",
   "id": "f1621867",
   "metadata": {},
   "source": [
    "#### Q11"
   ]
  },
  {
   "cell_type": "code",
   "execution_count": 36,
   "id": "4adc7d95",
   "metadata": {},
   "outputs": [],
   "source": [
    "# Q11. You have a Pandas DataFrame df with a column 'Date'. Write a Python function that creates a new\n",
    "# column 'Weekday' in the DataFrame. The 'Weekday' column should contain the weekday name (e.g.\n",
    "# Monday, Tuesday) corresponding to each date in the 'Date' column.\n",
    "# For example, if df contains the following values:\n",
    "# Date\n",
    "# 0 2023-01-01\n",
    "# 1 2023-01-02\n",
    "# 2 2023-01-03\n",
    "# 3 2023-01-04\n",
    "# 4 2023-01-05\n",
    "# Your function should create the following DataFrame:\n",
    "\n",
    "# Date Weekday\n",
    "# 0 2023-01-01 Sunday\n",
    "# 1 2023-01-02 Monday\n",
    "# 2 2023-01-03 Tuesday\n",
    "# 3 2023-01-04 Wednesday\n",
    "# 4 2023-01-05 Thursday\n",
    "# The function should return the modified DataFrame."
   ]
  },
  {
   "cell_type": "code",
   "execution_count": 41,
   "id": "855ca9df",
   "metadata": {},
   "outputs": [
    {
     "data": {
      "text/html": [
       "<div>\n",
       "<style scoped>\n",
       "    .dataframe tbody tr th:only-of-type {\n",
       "        vertical-align: middle;\n",
       "    }\n",
       "\n",
       "    .dataframe tbody tr th {\n",
       "        vertical-align: top;\n",
       "    }\n",
       "\n",
       "    .dataframe thead th {\n",
       "        text-align: right;\n",
       "    }\n",
       "</style>\n",
       "<table border=\"1\" class=\"dataframe\">\n",
       "  <thead>\n",
       "    <tr style=\"text-align: right;\">\n",
       "      <th></th>\n",
       "      <th>Date</th>\n",
       "    </tr>\n",
       "  </thead>\n",
       "  <tbody>\n",
       "    <tr>\n",
       "      <th>0</th>\n",
       "      <td>2023-01-01</td>\n",
       "    </tr>\n",
       "    <tr>\n",
       "      <th>1</th>\n",
       "      <td>2023-01-02</td>\n",
       "    </tr>\n",
       "    <tr>\n",
       "      <th>2</th>\n",
       "      <td>2023-01-03</td>\n",
       "    </tr>\n",
       "    <tr>\n",
       "      <th>3</th>\n",
       "      <td>2023-01-04</td>\n",
       "    </tr>\n",
       "    <tr>\n",
       "      <th>4</th>\n",
       "      <td>2023-01-05</td>\n",
       "    </tr>\n",
       "  </tbody>\n",
       "</table>\n",
       "</div>"
      ],
      "text/plain": [
       "         Date\n",
       "0  2023-01-01\n",
       "1  2023-01-02\n",
       "2  2023-01-03\n",
       "3  2023-01-04\n",
       "4  2023-01-05"
      ]
     },
     "execution_count": 41,
     "metadata": {},
     "output_type": "execute_result"
    }
   ],
   "source": [
    "import pandas as pd\n",
    "\n",
    "def add_weekday(df):\n",
    "    df['Weekday'] = pd.to_datetime(df['Date']).dt.weekday_name\n",
    "    return df\n",
    "data = {'Date': ['2023-01-01', '2023-01-02', '2023-01-03', '2023-01-04', '2023-01-05']}\n",
    "df = pd.DataFrame(data)\n",
    "df"
   ]
  },
  {
   "cell_type": "markdown",
   "id": "f6b1f52c",
   "metadata": {},
   "source": [
    "#### Q12. Given a Pandas DataFrame df with a column 'Date' that contains timestamps, write a Pythonfunction to select all rows where the date is between '2023-01-01' and '2023-01-31'."
   ]
  },
  {
   "cell_type": "code",
   "execution_count": 42,
   "id": "d17dcaee",
   "metadata": {},
   "outputs": [
    {
     "name": "stdout",
     "output_type": "stream",
     "text": [
      "                 Date\n",
      "0 2023-01-01 12:30:00\n",
      "1 2023-01-02 10:15:00\n",
      "2 2023-01-03 14:20:00\n"
     ]
    }
   ],
   "source": [
    "import pandas as pd\n",
    "\n",
    "# Create a sample DataFrame\n",
    "data = {'Date': ['2023-01-01 12:30:00', '2023-01-02 10:15:00', '2023-01-03 14:20:00', '2023-02-01 09:30:00', '2023-02-05 16:45:00']}\n",
    "df = pd.DataFrame(data)\n",
    "\n",
    "# Convert 'Date' column to datetime format\n",
    "df['Date'] = pd.to_datetime(df['Date'])\n",
    "\n",
    "# Select rows where date is between '2023-01-01' and '2023-01-31'\n",
    "start_date = pd.Timestamp('2023-01-01')\n",
    "end_date = pd.Timestamp('2023-01-31')\n",
    "mask = (df['Date'] >= start_date) & (df['Date'] <= end_date)\n",
    "df = df.loc[mask]\n",
    "\n",
    "# Print the modified DataFrame\n",
    "print(df)\n"
   ]
  },
  {
   "cell_type": "markdown",
   "id": "60fb4224",
   "metadata": {},
   "source": [
    "#### Q13. To use the basic functions of pandas, what is the first and foremost necessary library that needs to be imported?"
   ]
  },
  {
   "cell_type": "code",
   "execution_count": 43,
   "id": "dcc7b72f",
   "metadata": {},
   "outputs": [],
   "source": [
    "import pandas"
   ]
  },
  {
   "cell_type": "code",
   "execution_count": null,
   "id": "79c8284e",
   "metadata": {},
   "outputs": [],
   "source": []
  }
 ],
 "metadata": {
  "kernelspec": {
   "display_name": "Python 3 (ipykernel)",
   "language": "python",
   "name": "python3"
  },
  "language_info": {
   "codemirror_mode": {
    "name": "ipython",
    "version": 3
   },
   "file_extension": ".py",
   "mimetype": "text/x-python",
   "name": "python",
   "nbconvert_exporter": "python",
   "pygments_lexer": "ipython3",
   "version": "3.9.12"
  }
 },
 "nbformat": 4,
 "nbformat_minor": 5
}
