{
 "cells": [
  {
   "cell_type": "markdown",
   "id": "4602faf3",
   "metadata": {},
   "source": [
    "#### hey guys this is my 6th assignment in pwskills\n",
    "#### here we entering into oops concepts"
   ]
  },
  {
   "cell_type": "markdown",
   "id": "caf0028a",
   "metadata": {},
   "source": [
    "#### Q1. Explain Class and Object with respect to Object-Oriented Programming. Give a suitable example."
   ]
  },
  {
   "cell_type": "code",
   "execution_count": 12,
   "id": "b8655474",
   "metadata": {},
   "outputs": [
    {
     "name": "stdout",
     "output_type": "stream",
     "text": [
      "A class is a blueprint or a template for creating objects. It defines a set of attributes and methods that an object of that class will have. A class can be thought of as a blueprint for creating objects (a particular data structure), providing initial values for state (member variables or attributes), and implementations of behavior (member functions or methods).\n",
      "\n",
      "An object is an instance of a class. It is a real-world entity that has attributes and methods defined by the class. An object can be thought of as a specific example of a class, with its own set of attribute values and methods.\n",
      "\n",
      "For example, let's consider a class called Person. A Person class would have attributes such as name, age, address, and methods such as introduce() and get_age(). Each person in the real world would be an object of the class Person, with their own unique set of attribute values and methods.\n"
     ]
    }
   ],
   "source": [
    "print(\"\"\"A class is a blueprint or a template for creating objects. It defines a set of attributes and methods that an object of that class will have. A class can be thought of as a blueprint for creating objects (a particular data structure), providing initial values for state (member variables or attributes), and implementations of behavior (member functions or methods).\n",
    "\n",
    "An object is an instance of a class. It is a real-world entity that has attributes and methods defined by the class. An object can be thought of as a specific example of a class, with its own set of attribute values and methods.\n",
    "\n",
    "For example, let's consider a class called Person. A Person class would have attributes such as name, age, address, and methods such as introduce() and get_age(). Each person in the real world would be an object of the class Person, with their own unique set of attribute values and methods.\"\"\")"
   ]
  },
  {
   "cell_type": "markdown",
   "id": "038757df",
   "metadata": {},
   "source": [
    "#### Q2. Name the four pillars of OOPs."
   ]
  },
  {
   "cell_type": "code",
   "execution_count": 13,
   "id": "0e1585ac",
   "metadata": {},
   "outputs": [],
   "source": [
    "## abstraction\n",
    "## encapsulation\n",
    "## inheritance \n",
    "## polymorphism "
   ]
  },
  {
   "cell_type": "markdown",
   "id": "d484d2c5",
   "metadata": {},
   "source": [
    "#### Q3. Explain why the __init__() function is used. Give a suitable example."
   ]
  },
  {
   "cell_type": "code",
   "execution_count": 14,
   "id": "686fa5c6",
   "metadata": {},
   "outputs": [
    {
     "name": "stdout",
     "output_type": "stream",
     "text": [
      "Hi, my name is John Doe\n",
      "30\n",
      "Hi, my name is Jane Doe\n",
      "28\n"
     ]
    }
   ],
   "source": [
    "class Person:\n",
    "    def __init__(self, name, age, address):\n",
    "        self.name = name\n",
    "        self.age = age\n",
    "        self.address = address\n",
    "    \n",
    "    def introduce(self):\n",
    "        return \"Hi, my name is \" + self.name\n",
    "    \n",
    "    def get_age(self):\n",
    "        return self.age\n",
    "\n",
    "# Creating objects of the Person class\n",
    "person1 = Person(\"John Doe\", 30, \"123 Main St.\")\n",
    "person2 = Person(\"Jane Doe\", 28, \"456 Elm St.\")\n",
    "\n",
    "# Accessing object attributes and methods\n",
    "print(person1.introduce()) # Output: Hi, my name is John Doe\n",
    "print(person1.get_age()) # Output: 30\n",
    "\n",
    "print(person2.introduce()) # Output: Hi, my name is Jane Doe\n",
    "print(person2.get_age()) # Output: 28\n"
   ]
  },
  {
   "cell_type": "markdown",
   "id": "345f11ce",
   "metadata": {},
   "source": [
    "#### Q4. Why self is used in OOPs?"
   ]
  },
  {
   "cell_type": "code",
   "execution_count": 15,
   "id": "87bfa363",
   "metadata": {},
   "outputs": [],
   "source": [
    "## In Object-Oriented Programming (OOP), self is used as a reference to the instance of the object within a class method. It is used to access the attributes and methods of the class from within the class definition."
   ]
  },
  {
   "cell_type": "markdown",
   "id": "de4833d6",
   "metadata": {},
   "source": [
    " #### Q5. What is inheritance? Give an example for each type of inheritance."
   ]
  },
  {
   "cell_type": "code",
   "execution_count": 16,
   "id": "4bc7f4d1",
   "metadata": {},
   "outputs": [
    {
     "name": "stdout",
     "output_type": "stream",
     "text": [
      "Bark!\n"
     ]
    }
   ],
   "source": [
    "## Inheritance is a mechanism in Object-Oriented Programming (OOP) that allows creating a new class that is based on an existing class. The new class is called the derived class, and the existing class is called the base class. The derived class inherits the attributes and methods of the base class and can also have its own unique attributes and methods.\n",
    "## Single Inheritance: In single inheritance, a derived class inherits from a single base class. For example:\n",
    "class Animal:\n",
    "    def __init__(self, name):\n",
    "        self.name = name\n",
    "\n",
    "    def make_sound(self):\n",
    "        print(\"Animal making sound\")\n",
    "\n",
    "class Dog(Animal):\n",
    "    def __init__(self, name, breed):\n",
    "        Animal.__init__(self, name)\n",
    "        self.breed = breed\n",
    "\n",
    "    def make_sound(self):\n",
    "        print(\"Bark!\")\n",
    "\n",
    "dog = Dog(\"Max\", \"Labrador\")\n",
    "dog.make_sound() # Output: Bark!\n"
   ]
  },
  {
   "cell_type": "code",
   "execution_count": 17,
   "id": "da3d237d",
   "metadata": {},
   "outputs": [
    {
     "name": "stdout",
     "output_type": "stream",
     "text": [
      "John\n",
      "Teacher\n",
      "XYZ School\n"
     ]
    }
   ],
   "source": [
    "##Multi-level Inheritance: In multi-level inheritance, a derived class inherits from a base class, which in turn inherits from another base class. For example:\n",
    "class GrandParent:\n",
    "    def __init__(self, name):\n",
    "        self.name = name\n",
    "\n",
    "class Parent(GrandParent):\n",
    "    def __init__(self, name, occupation):\n",
    "        GrandParent.__init__(self, name)\n",
    "        self.occupation = occupation\n",
    "\n",
    "class Child(Parent):\n",
    "    def __init__(self, name, occupation, school):\n",
    "        Parent.__init__(self, name, occupation)\n",
    "        self.school = school\n",
    "\n",
    "child = Child(\"John\", \"Teacher\", \"XYZ School\")\n",
    "print(child.name) # Output: John\n",
    "print(child.occupation) # Output: Teacher\n",
    "print(child.school) # Output: XYZ School\n"
   ]
  },
  {
   "cell_type": "code",
   "execution_count": 19,
   "id": "50e9d338",
   "metadata": {},
   "outputs": [
    {
     "name": "stdout",
     "output_type": "stream",
     "text": [
      "John\n"
     ]
    }
   ],
   "source": [
    "### Multiple Inheritance: In multiple inheritance, a derived class inherits from multiple base classes. For example:\n",
    "class Mother:\n",
    "    def __init__(self, name, occupation):\n",
    "        self.name = name\n",
    "        self.occupation = occupation\n",
    "\n",
    "class Father:\n",
    "    def __init__(self, name, occupation):\n",
    "        self.name = name\n",
    "        self.occupation = occupation\n",
    "\n",
    "class Child(Mother, Father):\n",
    "    def __init__(self, name, mother_occupation, father_occupation):\n",
    "        Mother.__init__(self, name, mother_occupation)\n",
    "        Father.__init__(self, name, father_occupation)\n",
    "\n",
    "child = Child(\"John\", \"Teacher\", \"Engineer\")\n",
    "print(child.name) # Output: John\n"
   ]
  },
  {
   "cell_type": "code",
   "execution_count": null,
   "id": "2d0cf341",
   "metadata": {},
   "outputs": [],
   "source": []
  }
 ],
 "metadata": {
  "kernelspec": {
   "display_name": "Python 3 (ipykernel)",
   "language": "python",
   "name": "python3"
  },
  "language_info": {
   "codemirror_mode": {
    "name": "ipython",
    "version": 3
   },
   "file_extension": ".py",
   "mimetype": "text/x-python",
   "name": "python",
   "nbconvert_exporter": "python",
   "pygments_lexer": "ipython3",
   "version": "3.9.12"
  }
 },
 "nbformat": 4,
 "nbformat_minor": 5
}
