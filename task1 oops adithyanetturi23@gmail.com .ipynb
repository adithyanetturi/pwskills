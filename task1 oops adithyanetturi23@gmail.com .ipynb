{
 "cells": [
  {
   "cell_type": "markdown",
   "id": "a3edc3d3",
   "metadata": {},
   "source": [
    "#### hey guyz this is my 1st task in oops concept."
   ]
  },
  {
   "cell_type": "markdown",
   "id": "40c3c917",
   "metadata": {},
   "source": [
    "#### Q1, Create a vehicle class with an init method having instance variables as name_of_vehicle, max_speed\n",
    "and average_of_vehicle."
   ]
  },
  {
   "cell_type": "code",
   "execution_count": 24,
   "id": "ca6a1cd7",
   "metadata": {},
   "outputs": [],
   "source": [
    "class Vehicle:\n",
    "    def __init__(self, name_of_vehicle, max_speed, average_of_vehicle):\n",
    "        self.name_of_vehicle = name_of_vehicle\n",
    "        self.max_speed = max_speed\n",
    "        self.average_of_vehicle = average_of_vehicle\n",
    "my_car = Vehicle(\"Tesla Model S\",250,30)"
   ]
  },
  {
   "cell_type": "code",
   "execution_count": 26,
   "id": "e05d187a",
   "metadata": {},
   "outputs": [
    {
     "name": "stdout",
     "output_type": "stream",
     "text": [
      "Tesla Model S has a seating capacity of 5 passengers.\n"
     ]
    }
   ],
   "source": [
    "class Car(Vehicle):\n",
    "    def __init__(self, name_of_vehicle, max_speed, average_of_vehicle):\n",
    "        super().__init__(name_of_vehicle, max_speed, average_of_vehicle)\n",
    "\n",
    "    def seating_capacity(self, capacity):\n",
    "        return f\"{self.name_of_vehicle} has a seating capacity of {capacity} passengers.\"\n",
    "my_car = Car(\"Tesla Model S\", 250, 30)\n",
    "print(my_car.seating_capacity(5))"
   ]
  },
  {
   "cell_type": "markdown",
   "id": "90f244cf",
   "metadata": {},
   "source": [
    "#### Q3. What is multiple inheritance? Write a python code to demonstrate multiple inheritance."
   ]
  },
  {
   "cell_type": "code",
   "execution_count": null,
   "id": "cbbfe2e4",
   "metadata": {},
   "outputs": [],
   "source": [
    "## Multiple inheritance is a feature of object-oriented programming languages that allows a class to inherit from multiple parent classes. In multiple inheritance, a class can have more than one parent class, and it can inherit properties and methods from all of its parent classes.\n",
    "class Base1:\n",
    "    def method1(self):\n",
    "        print(\"This is method 1 from Base 1\")\n",
    "class Base2:\n",
    "    def method2(self):\n",
    "        print(\"This is method 2 from Base 2\")\n",
    "class Derived(Base1, Base2):\n",
    "    def method3(self):\n",
    "        print(\"This is method 3 from Derived\")\n",
    "# Creating an object of Derived class\n",
    "d = Derived()\n",
    "# Calling methods from both base classes and derived class\n",
    "d.method1()\n",
    "d.method2()\n",
    "d.method3()"
   ]
  },
  {
   "cell_type": "markdown",
   "id": "b8916364",
   "metadata": {},
   "source": [
    "#### Q4. What are getter and setter in python? Create a class and create a getter and a setter method in this class."
   ]
  },
  {
   "cell_type": "code",
   "execution_count": null,
   "id": "8124d88d",
   "metadata": {},
   "outputs": [],
   "source": [
    "#In Python, getter and setter methods are used to get and set the values of an object's attributes. \n",
    "#These methods are used to provide controlled access to the attributes of an object.\n",
    "#A getter method is a method that is used to retrieve the value of a private instance variable. \n",
    "#A setter method, on the other hand, is used to set the value of a private instance variable. \n",
    "#In Python, we can use the @property and @<attribute>.setter decorators to define getter and setter methods."
   ]
  },
  {
   "cell_type": "code",
   "execution_count": 27,
   "id": "8ee3b8bd",
   "metadata": {},
   "outputs": [
    {
     "name": "stdout",
     "output_type": "stream",
     "text": [
      "John\n",
      "20\n",
      "Alex\n",
      "25\n"
     ]
    }
   ],
   "source": [
    "class Student:\n",
    "    def __init__(self, name, age):\n",
    "        self._name = name\n",
    "        self._age = age\n",
    "    @property\n",
    "    def name(self):\n",
    "        return self._name\n",
    "    @name.setter\n",
    "    def name(self, name):\n",
    "        self._name = name\n",
    "    @property\n",
    "    def age(self):\n",
    "        return self._age\n",
    "    @age.setter\n",
    "    def age(self, age):\n",
    "        self._age = age\n",
    "# Creating an object of Student class\n",
    "s = Student(\"John\", 20)\n",
    "# Getting values of name and age attributes\n",
    "print(s.name)\n",
    "print(s.age)\n",
    "# Setting new values for name and age attributes\n",
    "s.name = \"Alex\"\n",
    "s.age = 25\n",
    "# Getting new values of name and age attributes\n",
    "print(s.name)\n",
    "print(s.age)"
   ]
  },
  {
   "cell_type": "markdown",
   "id": "1b8d87ff",
   "metadata": {},
   "source": [
    "#### Q5.What is method overriding in python? Write a python code to demonstrate method overriding."
   ]
  },
  {
   "cell_type": "code",
   "execution_count": 28,
   "id": "d3194785",
   "metadata": {},
   "outputs": [
    {
     "name": "stdout",
     "output_type": "stream",
     "text": [
      "The animal makes a sound.\n",
      "The dog barks.\n",
      "The cat meows.\n"
     ]
    }
   ],
   "source": [
    "# Method overriding in Python occurs when a subclass defines a method with the same name as a \n",
    "# method in its parent class, in order to change the behavior of the parent class method.\n",
    "class Animal:\n",
    "    def make_sound(self):\n",
    "        print(\"The animal makes a sound.\")\n",
    "class Dog(Animal):\n",
    "    def make_sound(self):\n",
    "        print(\"The dog barks.\")\n",
    "class Cat(Animal):\n",
    "    def make_sound(self):\n",
    "        print(\"The cat meows.\")\n",
    "a = Animal()\n",
    "d = Dog()\n",
    "c = Cat()\n",
    "a.make_sound() # prints \"The animal makes a sound.\"\n",
    "d.make_sound() # prints \"The dog barks.\"\n",
    "c.make_sound() # prints \"The cat meows.\""
   ]
  },
  {
   "cell_type": "code",
   "execution_count": null,
   "id": "d93345fb",
   "metadata": {},
   "outputs": [],
   "source": []
  }
 ],
 "metadata": {
  "kernelspec": {
   "display_name": "Python 3 (ipykernel)",
   "language": "python",
   "name": "python3"
  },
  "language_info": {
   "codemirror_mode": {
    "name": "ipython",
    "version": 3
   },
   "file_extension": ".py",
   "mimetype": "text/x-python",
   "name": "python",
   "nbconvert_exporter": "python",
   "pygments_lexer": "ipython3",
   "version": "3.9.12"
  }
 },
 "nbformat": 4,
 "nbformat_minor": 5
}
