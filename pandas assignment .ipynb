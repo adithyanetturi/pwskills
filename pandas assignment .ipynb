{
 "cells": [
  {
   "cell_type": "markdown",
   "id": "9853be17",
   "metadata": {},
   "source": [
    "#### hey guyz welcome to the new pandas series "
   ]
  },
  {
   "cell_type": "markdown",
   "id": "8754a3b1",
   "metadata": {},
   "source": [
    "#### new assignment on pandas basics "
   ]
  },
  {
   "cell_type": "markdown",
   "id": "54fa6c18",
   "metadata": {},
   "source": [
    "#### Q1.Create a Pandas Series that contains the following data: 4, 8, 15, 16, 23, and 42. Then, print the series."
   ]
  },
  {
   "cell_type": "code",
   "execution_count": 9,
   "id": "06b149f8",
   "metadata": {},
   "outputs": [
    {
     "name": "stdout",
     "output_type": "stream",
     "text": [
      "0     4\n",
      "1     8\n",
      "2    15\n",
      "3    16\n",
      "4    23\n",
      "5    42\n",
      "dtype: int64\n"
     ]
    },
    {
     "data": {
      "text/plain": [
       "pandas.core.series.Series"
      ]
     },
     "execution_count": 9,
     "metadata": {},
     "output_type": "execute_result"
    }
   ],
   "source": [
    "import pandas as pd\n",
    "\n",
    "# create the series\n",
    "data = [4, 8, 15, 16, 23, 42]\n",
    "s = pd.Series(data)\n",
    "\n",
    "# print the series\n",
    "print(s)\n",
    "type(s)"
   ]
  },
  {
   "cell_type": "markdown",
   "id": "fdb7cf2f",
   "metadata": {},
   "source": [
    "#### Q2. Create a variable of list type containing 10 elements in it, and apply pandas.Series function on thevariable print it."
   ]
  },
  {
   "cell_type": "code",
   "execution_count": 10,
   "id": "13a464ad",
   "metadata": {},
   "outputs": [
    {
     "name": "stdout",
     "output_type": "stream",
     "text": [
      "0     1\n",
      "1     2\n",
      "2     3\n",
      "3     4\n",
      "4     5\n",
      "5     6\n",
      "6     7\n",
      "7     8\n",
      "8     9\n",
      "9    10\n",
      "dtype: int64\n"
     ]
    }
   ],
   "source": [
    "import pandas as pd\n",
    "\n",
    "# create the list\n",
    "my_list = [1, 2, 3, 4, 5, 6, 7, 8, 9, 10]\n",
    "\n",
    "# convert to series\n",
    "s = pd.Series(my_list)\n",
    "\n",
    "# print the series\n",
    "print(s)\n"
   ]
  },
  {
   "cell_type": "markdown",
   "id": "469d1e76",
   "metadata": {},
   "source": [
    "#### Q3. Create a Pandas DataFrame that contains the following data:"
   ]
  },
  {
   "cell_type": "code",
   "execution_count": 11,
   "id": "60376ea2",
   "metadata": {},
   "outputs": [
    {
     "name": "stdout",
     "output_type": "stream",
     "text": [
      "      name  age country\n",
      "0    Alice   25     USA\n",
      "1      Bob   32  Canada\n",
      "2  Charlie   18      UK\n",
      "3    David   47     USA\n"
     ]
    }
   ],
   "source": [
    "import pandas as pd\n",
    "\n",
    "# create the data\n",
    "data = {\n",
    "    'name': ['Alice', 'Bob', 'Charlie', 'David'],\n",
    "    'age': [25, 32, 18, 47],\n",
    "    'country': ['USA', 'Canada', 'UK', 'USA']\n",
    "}\n",
    "\n",
    "# create the dataframe\n",
    "df = pd.DataFrame(data)\n",
    "\n",
    "# print the dataframe\n",
    "print(df)\n"
   ]
  },
  {
   "cell_type": "markdown",
   "id": "c658cfb0",
   "metadata": {},
   "source": [
    "#### What is ‘DataFrame’ in pandas and how is it different from pandas.series? Explain with an example."
   ]
  },
  {
   "cell_type": "code",
   "execution_count": 12,
   "id": "f173c7dd",
   "metadata": {},
   "outputs": [
    {
     "name": "stdout",
     "output_type": "stream",
     "text": [
      "0    1\n",
      "1    2\n",
      "2    3\n",
      "3    4\n",
      "4    5\n",
      "dtype: int64\n",
      "      name  age\n",
      "0    Alice   25\n",
      "1      Bob   32\n",
      "2  Charlie   18\n"
     ]
    }
   ],
   "source": [
    "import pandas as pd\n",
    "\n",
    "# create a series\n",
    "s = pd.Series([1, 2, 3, 4, 5])\n",
    "\n",
    "# create a dataframe\n",
    "df = pd.DataFrame({\n",
    "    'name': ['Alice', 'Bob', 'Charlie'],\n",
    "    'age': [25, 32, 18]\n",
    "})\n",
    "\n",
    "print(s)\n",
    "print(df)\n"
   ]
  },
  {
   "cell_type": "markdown",
   "id": "79111cd9",
   "metadata": {},
   "source": [
    "#### Q5. What are some common functions you can use to manipulate data in a Pandas DataFrame? Canyou give an example of when you might use one of these functions?"
   ]
  },
  {
   "cell_type": "code",
   "execution_count": 14,
   "id": "5b4bedd3",
   "metadata": {},
   "outputs": [],
   "source": [
    "# \"\"\" head() and tail(): to display the first or last few rows of the DataFrame\n",
    "# info(): to display information about the DataFrame, such as data types and missing values\n",
    "# describe(): to display summary statistics for the numerical columns in the DataFrame\n",
    "# sort_values(): to sort the DataFrame by one or more columns\n",
    "# groupby(): to group the DataFrame by one or more columns and apply an aggregation function, such as sum() or mean()\"\"\""
   ]
  },
  {
   "cell_type": "markdown",
   "id": "49caaafc",
   "metadata": {},
   "source": [
    "#### Q6. Which of the following is mutable in nature Series, DataFrame, Panel?"
   ]
  },
  {
   "cell_type": "markdown",
   "id": "e420492f",
   "metadata": {},
   "source": [
    "##### In pandas, both Series and DataFrame are mutable in nature. "
   ]
  },
  {
   "cell_type": "markdown",
   "id": "b2d87b81",
   "metadata": {},
   "source": [
    "#### Q7. Create a DataFrame using multiple Series. Explain with an example."
   ]
  },
  {
   "cell_type": "code",
   "execution_count": 15,
   "id": "f9db60f6",
   "metadata": {},
   "outputs": [
    {
     "name": "stdout",
     "output_type": "stream",
     "text": [
      "      name  age country\n",
      "0    Alice   25     USA\n",
      "1      Bob   32  Canada\n",
      "2  Charlie   18      UK\n"
     ]
    }
   ],
   "source": [
    "import pandas as pd\n",
    "\n",
    "# create some series\n",
    "names = pd.Series(['Alice', 'Bob', 'Charlie'])\n",
    "ages = pd.Series([25, 32, 18])\n",
    "countries = pd.Series(['USA', 'Canada', 'UK'])\n",
    "\n",
    "# create the dataframe using the series\n",
    "df = pd.DataFrame({\n",
    "    'name': names,\n",
    "    'age': ages,\n",
    "    'country': countries\n",
    "})\n",
    "\n",
    "# print the dataframe\n",
    "print(df)\n",
    "# in this example, we first create three separate Series, one for each column of the DataFrame we want to create.\n",
    "# Then, we use these Series to create the DataFrame by passing them as a dictionary to the pd.DataFrame() function. T\n",
    "# the keys of the dictionary correspond to the column names, and the values correspond to the data in each column. \n",
    "# Finally, we print the resulting DataFrame."
   ]
  },
  {
   "cell_type": "code",
   "execution_count": null,
   "id": "5997e7fd",
   "metadata": {},
   "outputs": [],
   "source": []
  }
 ],
 "metadata": {
  "kernelspec": {
   "display_name": "Python 3 (ipykernel)",
   "language": "python",
   "name": "python3"
  },
  "language_info": {
   "codemirror_mode": {
    "name": "ipython",
    "version": 3
   },
   "file_extension": ".py",
   "mimetype": "text/x-python",
   "name": "python",
   "nbconvert_exporter": "python",
   "pygments_lexer": "ipython3",
   "version": "3.9.12"
  }
 },
 "nbformat": 4,
 "nbformat_minor": 5
}
