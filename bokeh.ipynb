{
 "cells": [
  {
   "cell_type": "markdown",
   "id": "92128939",
   "metadata": {},
   "source": [
    "#### Q1. How can you create a Bokeh plot using Python code?"
   ]
  },
  {
   "cell_type": "code",
   "execution_count": 1,
   "id": "e9d62a9a",
   "metadata": {},
   "outputs": [],
   "source": [
    "# from bokeh.plotting import figure, show\n",
    "# from bokeh.io import output_notebook\n",
    "# you have to import the package"
   ]
  },
  {
   "cell_type": "markdown",
   "id": "11c5fc2f",
   "metadata": {},
   "source": [
    "#### Q2. What are glyphs in Bokeh, and how can you add them to a Bokeh plot? Explain with an example."
   ]
  },
  {
   "cell_type": "code",
   "execution_count": 2,
   "id": "9d6ddc52",
   "metadata": {},
   "outputs": [],
   "source": [
    "# In Bokeh, glyphs are the visual markers or shapes that represent data points on a plot. They can be used to create scatter plots, line plots, bar plots, and other types of visualizations. Bokeh provides a wide range of glyph types, such as circles, squares, triangles, lines, and more.\n",
    "\n",
    "# To add glyphs to a Bokeh plot\n",
    "\n",
    "# from bokeh.plotting import figure\n",
    "\n",
    "# plot = figure()"
   ]
  },
  {
   "cell_type": "markdown",
   "id": "33d0bd53",
   "metadata": {},
   "source": [
    "#### Q3. How can you customize the appearance of a Bokeh plot, including the axes, title, and legend?"
   ]
  },
  {
   "cell_type": "code",
   "execution_count": 3,
   "id": "93611890",
   "metadata": {},
   "outputs": [],
   "source": [
    "# To customize the appearance of a Bokeh plot, including the axes, title, and legend, you can use various methods and attributes provided by the Bokeh library. Here are some common customization options:\n",
    "\n",
    "# Plot Title and Axis Labels:\n",
    "\n",
    "# Set the title of the plot using the title attribute of the figure object.\n",
    "# Set the labels for the x-axis and y-axis using the x_axis_label and y_axis_label attributes, respectively.\n",
    "# plot = figure(title=\"Customized Plot\", x_axis_label=\"X-axis\", y_axis_label=\"Y-axis\")\n"
   ]
  },
  {
   "cell_type": "markdown",
   "id": "a95778af",
   "metadata": {},
   "source": [
    "#### Q4. What is a Bokeh server, and how can you use it to create interactive plots that can be updated in real time?"
   ]
  },
  {
   "cell_type": "code",
   "execution_count": 5,
   "id": "3a8f2a33",
   "metadata": {},
   "outputs": [],
   "source": [
    "# # The Bokeh server is a component of the Bokeh library that allows you to \n",
    "# # create interactive plots that can be updated in real-time.\n",
    "# # It enables the creation of web-based applications or dashboards \n",
    "# # that can respond to user interactions, \n",
    "# # data updates, or other events, providing dynamic and interactive visualizations.\n",
    "# from bokeh.plotting import figure, curdoc\n",
    "# from bokeh.server.server import Server\n",
    "# from bokeh.layouts import layout\n",
    "# from bokeh.models import ColumnDataSource\n"
   ]
  },
  {
   "cell_type": "markdown",
   "id": "0d86a276",
   "metadata": {},
   "source": [
    "#### Q5. How can you embed a Bokeh plot into a web page or dashboard using Flask or Django?"
   ]
  },
  {
   "cell_type": "code",
   "execution_count": 6,
   "id": "2dff1289",
   "metadata": {},
   "outputs": [],
   "source": [
    "# To embed a Bokeh plot into a web page or dashboard using Flask or Django, you can follow these general steps:\n",
    "\n",
    "# Flask:\n",
    "\n",
    "# Import the necessary modules:\n",
    "\n",
    "# python\n",
    "# Copy code\n",
    "# from flask import Flask, render_template\n",
    "# from bokeh.embed import components\n",
    "# from bokeh.plotting import figure"
   ]
  },
  {
   "cell_type": "code",
   "execution_count": null,
   "id": "35e16685",
   "metadata": {},
   "outputs": [],
   "source": []
  }
 ],
 "metadata": {
  "kernelspec": {
   "display_name": "Python 3 (ipykernel)",
   "language": "python",
   "name": "python3"
  },
  "language_info": {
   "codemirror_mode": {
    "name": "ipython",
    "version": 3
   },
   "file_extension": ".py",
   "mimetype": "text/x-python",
   "name": "python",
   "nbconvert_exporter": "python",
   "pygments_lexer": "ipython3",
   "version": "3.9.12"
  }
 },
 "nbformat": 4,
 "nbformat_minor": 5
}
