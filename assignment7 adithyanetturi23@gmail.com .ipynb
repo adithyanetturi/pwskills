{
 "cells": [
  {
   "cell_type": "markdown",
   "id": "a3edc3d3",
   "metadata": {},
   "source": [
    "#### hey guyz this is my 6th assigenment \n",
    "#### recap"
   ]
  },
  {
   "cell_type": "markdown",
   "id": "6c6b6dc4",
   "metadata": {},
   "source": [
    "##### Q1. Create a function which will take a list as an argument and return the product of all the numbers\n",
    "##### after creating a flat list.\n",
    "##### Use the below-given list as an argument for your function.\n",
    "##### list1 = [1,2,3,4, [44,55,66, True], False, (34,56,78,89,34), {1,2,3,3,2,1}, {1:34, \"key2\": [55, 67, 78, 89], 4: (45,\n",
    "22, 61, 34)}, [56, 'data science'], 'Machine Learning']\n",
    "##### Note: you must extract numeric keys and values of the dictionary also."
   ]
  },
  {
   "cell_type": "code",
   "execution_count": 4,
   "id": "d685f206",
   "metadata": {},
   "outputs": [
    {
     "name": "stdout",
     "output_type": "stream",
     "text": [
      "186706564947302400\n"
     ]
    }
   ],
   "source": [
    "def multiply_numbers(lst):\n",
    "    flat_lst = []\n",
    "    for item in lst:\n",
    "        if type(item) == list:\n",
    "            flat_lst += item\n",
    "        elif type(item) == dict:\n",
    "            for value in item.values():\n",
    "                if type(value) == list:\n",
    "                    flat_lst += value\n",
    "                else:\n",
    "                    flat_lst.append(value)\n",
    "        else:\n",
    "            flat_lst.append(item)\n",
    "    \n",
    "    product = 1\n",
    "    for num in flat_lst:\n",
    "        if type(num) == int or type(num) == float:\n",
    "            product *= num\n",
    "            \n",
    "    return product\n",
    "lst = [1,2,3,4, [44,55,66, True], False, (34,56,78,89,34), {1,2,3,3,2,1}, {1:34, \"key2\": [55, 67, 78, 89], 4: (45,\n",
    "22, 61, 34)}, [56, 'data science'], 'Machine Learning']\n",
    "print(multiply_numbers(lst))"
   ]
  },
  {
   "cell_type": "markdown",
   "id": "7657113d",
   "metadata": {},
   "source": [
    "##### Q2. Write a python program for encrypting a message sent to you by your friend. The logic of encryption\n",
    "##### should be such that, for a the output should be z. For b, the output should be y. For c, the output should\n",
    "##### be x respectively. Also, the whitespace should be replaced with a dollar sign. Keep the punctuation\n",
    "##### marks unchanged.\n",
    "##### Input Sentence: I want to become a Data Scientist.\n",
    "##### Encrypt the above input sentence using the program you just created.\n",
    "##### Note: Convert the given input sentence into lowercase before encrypting. The final output should be\n",
    "##### lowercase."
   ]
  },
  {
   "cell_type": "code",
   "execution_count": 5,
   "id": "9230b9c1",
   "metadata": {},
   "outputs": [
    {
     "name": "stdout",
     "output_type": "stream",
     "text": [
      "r$dzmg$gl$yvxlnv$z$wzgz$hxrvmgrhg.\n"
     ]
    }
   ],
   "source": [
    "def encrypt_message(message):\n",
    "    encrypted_message = \"\"\n",
    "    for char in message.lower():\n",
    "        if char == \" \":\n",
    "            encrypted_message += \"$\"\n",
    "        elif char.isalpha():\n",
    "            encrypted_message += chr(ord('a') + (25 - (ord(char) - ord('a'))))\n",
    "        else:\n",
    "            encrypted_message += char\n",
    "    return encrypted_message\n",
    "\n",
    "# Example usage\n",
    "input_sentence = \"I want to become a Data Scientist.\"\n",
    "encrypted_sentence = encrypt_message(input_sentence)\n",
    "print(encrypted_sentence)\n"
   ]
  },
  {
   "cell_type": "code",
   "execution_count": null,
   "id": "0837e15b",
   "metadata": {},
   "outputs": [],
   "source": []
  }
 ],
 "metadata": {
  "kernelspec": {
   "display_name": "Python 3 (ipykernel)",
   "language": "python",
   "name": "python3"
  },
  "language_info": {
   "codemirror_mode": {
    "name": "ipython",
    "version": 3
   },
   "file_extension": ".py",
   "mimetype": "text/x-python",
   "name": "python",
   "nbconvert_exporter": "python",
   "pygments_lexer": "ipython3",
   "version": "3.9.12"
  }
 },
 "nbformat": 4,
 "nbformat_minor": 5
}
