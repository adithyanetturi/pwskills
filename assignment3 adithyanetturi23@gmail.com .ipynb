{
 "cells": [
  {
   "cell_type": "markdown",
   "id": "36ee291f",
   "metadata": {},
   "source": [
    "### Hey guys this is assignment of my pw skills  \n",
    "### It consists of topics tuples,dictionary,sets"
   ]
  },
  {
   "cell_type": "markdown",
   "id": "014b451f",
   "metadata": {},
   "source": [
    "#### Q1. What are the characteristics of the tuples? Is tuple immutable?"
   ]
  },
  {
   "cell_type": "markdown",
   "id": "4f8cbc9b",
   "metadata": {},
   "source": [
    "##### here are 5 characteristics of tuple \n",
    "#### --> we can access the tuples by indexing.\n",
    "#### --> we concat the tuples.\n",
    "#### --> we can slice the tuple.\n",
    "#### --> tuples are nested\n",
    "#### --> tuples are immutable"
   ]
  },
  {
   "cell_type": "markdown",
   "id": "142a19da",
   "metadata": {},
   "source": [
    "#### Q2 What are the two tuple methods in python? Give an example of each method. Give a reason why\n",
    "#### tuples have only two in-built methods as compared to Lists."
   ]
  },
  {
   "cell_type": "markdown",
   "id": "f5034435",
   "metadata": {},
   "source": [
    "#### answer:  the two methods are count and index"
   ]
  },
  {
   "cell_type": "code",
   "execution_count": 1,
   "id": "d5b769bd",
   "metadata": {},
   "outputs": [
    {
     "data": {
      "text/plain": [
       "0"
      ]
     },
     "execution_count": 1,
     "metadata": {},
     "output_type": "execute_result"
    }
   ],
   "source": [
    "t = (2,3,4,5,6,4) #its a declaring method of tuple\n",
    "t.index(2) ## it returns the index number of element"
   ]
  },
  {
   "cell_type": "code",
   "execution_count": 3,
   "id": "685d9d82",
   "metadata": {},
   "outputs": [
    {
     "data": {
      "text/plain": [
       "2"
      ]
     },
     "execution_count": 3,
     "metadata": {},
     "output_type": "execute_result"
    }
   ],
   "source": [
    "t.count(4) ##it returns the how many times the element present in the tuple\n",
    "## tuple has two built-in methods because it is immutable  "
   ]
  },
  {
   "cell_type": "markdown",
   "id": "e456dc4b",
   "metadata": {},
   "source": [
    "#### Q3. Which collection datatypes in python do not allow duplicate items? Write a code using a set to remove\n",
    "#### duplicates from the given list.\n",
    "##### List = [1, 1, 1, 2, 1, 3, 1, 4, 2, 1, 2, 2, 2, 3, 2, 4, 3, 1, 3, 2, 3, 3, 3, 4, 4, 1, 4, 2, 4, 3, 4, 4]"
   ]
  },
  {
   "cell_type": "code",
   "execution_count": 4,
   "id": "38c8e1a3",
   "metadata": {},
   "outputs": [
    {
     "name": "stdout",
     "output_type": "stream",
     "text": [
      "{1, 2, 3, 4}\n"
     ]
    }
   ],
   "source": [
    "# set datatype will not allow the duplicates\n",
    "# this is a program for removing duplicates from a list\n",
    "List = [1, 1, 1, 2, 1, 3, 1, 4, 2, 1, 2, 2, 2, 3, 2, 4, 3, 1, 3, 2, 3, 3, 3, 4, 4, 1, 4, 2, 4, 3, 4, 4]\n",
    "print(set(List))\n",
    "## it return a set that has no duplicate values"
   ]
  },
  {
   "cell_type": "markdown",
   "id": "e9b7edd4",
   "metadata": {},
   "source": [
    "#### Q4. Explain the difference between the union() and update() methods for a set. Give an example of each method."
   ]
  },
  {
   "cell_type": "code",
   "execution_count": 7,
   "id": "676094c6",
   "metadata": {},
   "outputs": [
    {
     "name": "stdout",
     "output_type": "stream",
     "text": [
      "{1, 2, 3, 4, 5, 6, 7}\n"
     ]
    }
   ],
   "source": [
    "# union will add the two sets and removes the duplicate values\n",
    "# when you give an update function it will itreate through and remove the duplicate \n",
    "#examples for the methods update and union\n",
    "s1 = {1,2,3,4}\n",
    "s2 = {3,4,5,6,7}\n",
    "x = s1.union(s2)\n",
    "print(x)"
   ]
  },
  {
   "cell_type": "code",
   "execution_count": 11,
   "id": "bd1ff70b",
   "metadata": {},
   "outputs": [
    {
     "name": "stdout",
     "output_type": "stream",
     "text": [
      "{1, 2, 3, '6', '5', '4', '3', ' '}\n"
     ]
    }
   ],
   "source": [
    "thisset = {1,2,3}\n",
    "thisset.update(\"34 56\")\n",
    "print(thisset)"
   ]
  },
  {
   "cell_type": "markdown",
   "id": "d6b081d0",
   "metadata": {},
   "source": [
    "#### Q5. What is a dictionary? Give an example. Also, state whether a dictionary is ordered or unordered."
   ]
  },
  {
   "cell_type": "code",
   "execution_count": 14,
   "id": "48531222",
   "metadata": {},
   "outputs": [
    {
     "name": "stdout",
     "output_type": "stream",
     "text": [
      "{'a': 'Apple', 'b': 'ball'}\n"
     ]
    }
   ],
   "source": [
    "## dictionary is a data type which we can store the values as key and values\n",
    "# example and dictionary is ordered\n",
    "a = {\"a\":\"Apple\",\"b\":\"ball\"}\n",
    "print(a)"
   ]
  },
  {
   "cell_type": "markdown",
   "id": "31150a43",
   "metadata": {},
   "source": [
    "#### Q6. Can we create a nested dictionary? If so, please give an example by creating a simple one-level nested dictionary."
   ]
  },
  {
   "cell_type": "code",
   "execution_count": 15,
   "id": "8c1d72d2",
   "metadata": {},
   "outputs": [
    {
     "name": "stdout",
     "output_type": "stream",
     "text": [
      "{'number': {'Whole number': '0-n', 'natural': '1 - n'}, 'alpha': {'upper': 'ABCD', 'lower': 'abcd'}}\n"
     ]
    }
   ],
   "source": [
    "a = {\"number\": {\"Whole number\":\"0-n\",\"natural\":\"1 - n\"},\"alpha\":{\"upper\":\"ABCD\",\"lower\":\"abcd\"}}\n",
    "print(a)"
   ]
  },
  {
   "cell_type": "markdown",
   "id": "e1f9daed",
   "metadata": {},
   "source": [
    "#### Q7. Using setdefault() method, create key named topics in the given dictionary and also add the value of the key as this list ['Python', 'Machine Learning’, 'Deep Learning']"
   ]
  },
  {
   "cell_type": "code",
   "execution_count": 17,
   "id": "8cdaa308",
   "metadata": {},
   "outputs": [
    {
     "name": "stdout",
     "output_type": "stream",
     "text": [
      "{'topics': ['Python', 'Machine Learning', 'Deep Learning']}\n"
     ]
    }
   ],
   "source": [
    "d = {}\n",
    "d.setdefault('topics', []).extend(['Python', 'Machine Learning', 'Deep Learning'])\n",
    "print(d)"
   ]
  },
  {
   "cell_type": "markdown",
   "id": "e19c5487",
   "metadata": {},
   "source": [
    "#### Q8. What are the three view objects in dictionaries? Use the three in-built methods in python to display\n",
    "#### these three view objects for the given dictionary.\n"
   ]
  },
  {
   "cell_type": "code",
   "execution_count": 19,
   "id": "43c92fe9",
   "metadata": {},
   "outputs": [
    {
     "name": "stdout",
     "output_type": "stream",
     "text": [
      "View object of keys: dict_keys(['Sport', 'Teams'])\n",
      "View object of values: dict_values(['Cricket', ['India', 'Australia', 'England', 'South Africa', 'Sri Lanka', 'New Zealand']])\n",
      "View object of items: dict_items([('Sport', 'Cricket'), ('Teams', ['India', 'Australia', 'England', 'South Africa', 'Sri Lanka', 'New Zealand'])])\n"
     ]
    }
   ],
   "source": [
    "dict1 = {'Sport': 'Cricket' , 'Teams': ['India', 'Australia', 'England', 'South Africa', 'Sri Lanka', 'New Zealand']}\n",
    "\n",
    "# view object of keys\n",
    "print(\"View object of keys:\", dict1.keys())\n",
    "\n",
    "# view object of values\n",
    "print(\"View object of values:\", dict1.values())\n",
    "\n",
    "# view object of items\n",
    "print(\"View object of items:\", dict1.items())\n"
   ]
  },
  {
   "cell_type": "code",
   "execution_count": null,
   "id": "30c22468",
   "metadata": {},
   "outputs": [],
   "source": []
  }
 ],
 "metadata": {
  "kernelspec": {
   "display_name": "Python 3 (ipykernel)",
   "language": "python",
   "name": "python3"
  },
  "language_info": {
   "codemirror_mode": {
    "name": "ipython",
    "version": 3
   },
   "file_extension": ".py",
   "mimetype": "text/x-python",
   "name": "python",
   "nbconvert_exporter": "python",
   "pygments_lexer": "ipython3",
   "version": "3.9.12"
  }
 },
 "nbformat": 4,
 "nbformat_minor": 5
}
